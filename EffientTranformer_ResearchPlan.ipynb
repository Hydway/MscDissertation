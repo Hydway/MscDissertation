{
 "cells": [
  {
   "cell_type": "markdown",
   "id": "e2bbc9a7",
   "metadata": {},
   "source": [
    "# Effient Vision Tranformer Research Plan\n",
    "Dissertation Project  & Publication -- XIAOYU CHEN\n",
    "\n",
    "## 1. Research Background & Motivation\n",
    "The transformer model is a deep learning model based on an attention mechanism that can achieve good results when processing sequential data (e.g., text, speech, and time series). In the field of quantitative finance, the transformer model has gradually attracted the attention of institutions in recent years, and there have been studies on the application of the model in financial markets with some achievements.\\\n",
    "\\\n",
    "Although the project is mainly to study computer vision, the process of this research will allow me to understand the transformer model in depth, which will be of great help to my career development\n",
    "## 2. Research-related preparation\n",
    "#### The works already done\n",
    "+ Familiarized with pytorch. Built a simple CNN model and autoencoding model.\n",
    "+ Familiarized with the concepts related to transformer. Such as self-attention and multi-head attetion.\n",
    "+ Read the original paper \"Attention is all you need\" and tried to understand the basic architecture of transformer networks.\n",
    "\n",
    "#### Problems encountered\n",
    "+ Some details of the transformer model are not fully understood, such as how exactly the q/k/v matrices work jointly.\n",
    "+ Have not reproduced the transformer in code yet.\n",
    "\n",
    "## 3. Research Progress and Timeline\n",
    "Since it can't foresee the progress of the research and the difficulties may encounter, I have tentatively planned a specific schedule for the next 5 weeks, as well as a general schedule for after February:\n",
    "#### Timetable:\n",
    "|  Time  | Task  |\n",
    "|  ----  | ----  |\n",
    "|12.19-12.25   | Deeper Understanding of all the details in \"Attention is all you need\"| \n",
    "|12.26 - 1.1  | Code to reproduce the original transformer model|\n",
    "|1.2  -  1.8|Review the paper listed in the References [1]|\n",
    "|1.9  -  1.15|Review the paper listed in the References [2]|\n",
    "|1.16 - 1.22|Review the paper listed in the References [3]|\n",
    "|Feb|Do literature review|\n",
    "|Mar|Do literature review and Present ideas|\n",
    "|Apr|Build models and Conduct experiments|\n",
    "|May|Optimize models and code|\n",
    "|June|Draw conclusions|\n",
    "|July|Write a paper and Complete research|\n",
    "|Aug|Add modifications to the paper|\n",
    "\n",
    "## 4. Research Expected Outcomes\n",
    "#### Basic:\n",
    "+ In-depth understanding of the transformer model optimization process\n",
    "+ A qualified dissertation\n",
    "\n",
    "#### Advancing:\n",
    "+ Propose and realize practical improvement for transformer\n",
    "+ Take more implementations of the improved model in my area of interest besides computer vision.\n",
    "+ A worth reading publication\n",
    "\n",
    "## Other issues\n",
    "+ Since this is the first time that I have encountered a research task, I am not familiar with some of the research processes, so I hope that I can often get some help and answers to specific questions through offline meetings, etc.\n",
    "+ I may need some time to add relevant background knowledge in the early stage since my knowledge of this issue is not yet deep enough. And it may be possible to study some relevant aspects in depth according to my own interests and practical needs. So I can't be sure of the exact amount of time needed in the early stage, but I will try to finish it as planned."
   ]
  },
  {
   "cell_type": "code",
   "execution_count": null,
   "id": "cae3338a",
   "metadata": {},
   "outputs": [],
   "source": []
  }
 ],
 "metadata": {
  "kernelspec": {
   "display_name": "Python 3 (ipykernel)",
   "language": "python",
   "name": "python3"
  },
  "language_info": {
   "codemirror_mode": {
    "name": "ipython",
    "version": 3
   },
   "file_extension": ".py",
   "mimetype": "text/x-python",
   "name": "python",
   "nbconvert_exporter": "python",
   "pygments_lexer": "ipython3",
   "version": "3.9.12"
  }
 },
 "nbformat": 4,
 "nbformat_minor": 5
}
